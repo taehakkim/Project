{
 "cells": [
  {
   "cell_type": "code",
   "execution_count": 1,
   "id": "276f722a-641a-478a-9a61-188fe7945dc1",
   "metadata": {},
   "outputs": [
    {
     "name": "stdout",
     "output_type": "stream",
     "text": [
      "5rWaNb!lG5W56zx$\n",
      "vh$dKb9Df6*KB04q\n",
      "CtJu$ZQ6XS3M!9T@\n",
      "7o$ih@gzqy@@X7lX\n",
      "$ZX4Z1oYztro$fsP\n",
      "MgTYDiFsx*$Tj*EU\n",
      "uX1!1@9qVGgU0DNu\n",
      "Y8@lX@W!Z$vF5VR!\n",
      "K1p@h*JyKWiqTqiL\n",
      "*XcS@cKVs@YUxLUp\n",
      "S$@egxgYSauVx*bd\n",
      "iBSj!pe63iR$$*XO\n"
     ]
    }
   ],
   "source": [
    "import secrets\n",
    "import string\n",
    "\n",
    "def generate_auth_codes(count=5, length=16, min_special=2):\n",
    "    if length < min_special:\n",
    "        raise ValueError(\"Length must be greater than or equal to min_special.\")\n",
    "\n",
    "    letters_digits = string.ascii_letters + string.digits  # A-Z, a-z, 0-9\n",
    "    \n",
    "    # Add custom special characters here.\n",
    "    special_chars = \"!$@*\"\n",
    "    codes = []\n",
    "\n",
    "    for _ in range(count):\n",
    "        special_part = [secrets.choice(special_chars) for _ in range(min_special)]\n",
    "        rest_length = length - min_special\n",
    "        rest_part = [secrets.choice(letters_digits + special_chars) for _ in range(rest_length)]\n",
    "        auth_code_list = special_part + rest_part\n",
    "        secrets.SystemRandom().shuffle(auth_code_list)\n",
    "        codes.append(''.join(auth_code_list))\n",
    "\n",
    "    return codes\n",
    "\n",
    "# How many authcodes you want to generate\n",
    "howmany=12\n",
    "\n",
    "# Generate the code\n",
    "auth_codes = generate_auth_codes(howmany, length=16, min_special=2)\n",
    "for i, code in enumerate(auth_codes, 1):\n",
    "    print(f\"{code}\")"
   ]
  }
 ],
 "metadata": {
  "kernelspec": {
   "display_name": "Python 3 (ipykernel)",
   "language": "python",
   "name": "python3"
  },
  "language_info": {
   "codemirror_mode": {
    "name": "ipython",
    "version": 3
   },
   "file_extension": ".py",
   "mimetype": "text/x-python",
   "name": "python",
   "nbconvert_exporter": "python",
   "pygments_lexer": "ipython3",
   "version": "3.12.8"
  }
 },
 "nbformat": 4,
 "nbformat_minor": 5
}
